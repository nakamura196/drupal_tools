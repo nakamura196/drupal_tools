{
 "cells": [
  {
   "cell_type": "code",
   "execution_count": null,
   "metadata": {},
   "outputs": [
    {
     "ename": "ModuleNotFoundError",
     "evalue": "No module named 'drupal_tools'",
     "output_type": "error",
     "traceback": [
      "\u001b[0;31m---------------------------------------------------------------------------\u001b[0m",
      "\u001b[0;31mModuleNotFoundError\u001b[0m                       Traceback (most recent call last)",
      "Cell \u001b[0;32mIn[1], line 2\u001b[0m\n\u001b[1;32m      1\u001b[0m \u001b[38;5;66;03m#| hide\u001b[39;00m\n\u001b[0;32m----> 2\u001b[0m \u001b[38;5;28;01mfrom\u001b[39;00m \u001b[38;5;21;01mdrupal_tools\u001b[39;00m\u001b[38;5;21;01m.\u001b[39;00m\u001b[38;5;21;01mapi\u001b[39;00m \u001b[38;5;28;01mimport\u001b[39;00m \u001b[38;5;241m*\u001b[39m\n",
      "\u001b[0;31mModuleNotFoundError\u001b[0m: No module named 'drupal_tools'"
     ]
    }
   ],
   "source": [
    "#| hide\n",
    "%load_ext autoreload\n",
    "%autoreload 2\n",
    "from drupal_tools.api import *"
   ]
  },
  {
   "cell_type": "markdown",
   "metadata": {},
   "source": [
    "# Drupal Tools\n",
    "\n",
    "> Tools for working with data in an instance of Drupal."
   ]
  },
  {
   "cell_type": "markdown",
   "metadata": {},
   "source": [
    "## Install"
   ]
  },
  {
   "cell_type": "markdown",
   "metadata": {},
   "source": [
    "```sh\n",
    "pip install git+https://github.com/nakamura196/drupal_tools\n",
    "```"
   ]
  },
  {
   "cell_type": "markdown",
   "metadata": {},
   "source": [
    "## How to use"
   ]
  },
  {
   "cell_type": "markdown",
   "metadata": {},
   "source": [
    "[See the documentation](https://nakamura196.github.io/drupal_tools/api.html) for full details of the Omeka API Client."
   ]
  },
  {
   "cell_type": "markdown",
   "metadata": {},
   "source": [
    "Please create `.env` file in the root of your project with the following content:\n",
    "\n",
    "```\n",
    "DRUPAL_URL=http://example.org/drupal\n",
    "DRUPAL_USERNAME=username\n",
    "DRUPAL_PASSWORD=password\n",
    "```"
   ]
  },
  {
   "cell_type": "markdown",
   "metadata": {},
   "source": [
    "```python\n",
    "from drupal_tools.api import DrupalAPIClient\n",
    "\n",
    "import pandas as pd\n",
    "\n",
    "def get_item_ids():\n",
    "    # Load a CSV file containing item ids into a DataFrame.\n",
    "    df = pd.read_csv(\"./uuids.csv\")\n",
    "    item_ids = [row[\"asset_uuid\"] for _, row in df.iterrows()]\n",
    "    return item_ids\n",
    "\n",
    "# Call the function to get the list of item ids.\n",
    "item_ids = get_item_ids()\n",
    "\n",
    "# Load Drupal credentials from a .env file using the DrupalAPIClient.\n",
    "DRUPAL_URL, DRUPAL_USERNAME, DRUPAL_PASSWORD = DrupalAPIClient.load_credentials(\"../.env\")\n",
    "\n",
    "# Create an instance of the DrupalAPIClient with the loaded credentials.\n",
    "drupal = DrupalAPIClient(DRUPAL_URL, DRUPAL_USERNAME, DRUPAL_PASSWORD)\n",
    "\n",
    "field_name = \"field_item_id\"\n",
    "nids = drupal.get_nids(item_ids, field_name)\n",
    "\n",
    "results = drupal.delete_from_nids(nids)\n",
    "```"
   ]
  }
 ],
 "metadata": {
  "kernelspec": {
   "display_name": "python3",
   "language": "python",
   "name": "python3"
  }
 },
 "nbformat": 4,
 "nbformat_minor": 4
}
