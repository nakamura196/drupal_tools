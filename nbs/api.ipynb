{
 "cells": [
  {
   "cell_type": "markdown",
   "metadata": {},
   "source": [
    "# Drupal API Client\n",
    "\n",
    "> Tools to interact with the Druapl REST API"
   ]
  },
  {
   "cell_type": "code",
   "execution_count": null,
   "metadata": {},
   "outputs": [],
   "source": [
    "#| default_exp api"
   ]
  },
  {
   "cell_type": "code",
   "execution_count": null,
   "metadata": {},
   "outputs": [],
   "source": [
    "#| hide\n",
    "from nbdev.showdoc import show_doc"
   ]
  },
  {
   "cell_type": "code",
   "execution_count": null,
   "metadata": {},
   "outputs": [],
   "source": [
    "#| export\n",
    "import requests\n",
    "from requests.auth import HTTPBasicAuth\n",
    "from tqdm import tqdm\n",
    "from dotenv import load_dotenv\n",
    "import os"
   ]
  },
  {
   "cell_type": "code",
   "execution_count": null,
   "metadata": {},
   "outputs": [],
   "source": [
    "#| export\n",
    "class DrupalAPIClient:\n",
    "    \"\"\"\n",
    "    A client for interacting with a Drupal JSON:API endpoint, providing functionalities\n",
    "    to fetch node IDs (nids) based on UUIDs and to delete nodes.\n",
    "\n",
    "    Attributes:\n",
    "        origin (str): The base URL for the Drupal site.\n",
    "        auth (HTTPBasicAuth): Authentication credentials for the site.\n",
    "        session (requests.Session): A requests session for making API calls.\n",
    "    \"\"\"\n",
    "\n",
    "    @staticmethod\n",
    "    def load_credentials(file_path):\n",
    "        \"\"\"\n",
    "        Loads credentials from a .env file.\n",
    "\n",
    "        Args:\n",
    "            file_path (str): The path to the .env file.\n",
    "        \n",
    "        Returns:\n",
    "            tuple: A tuple containing the URL, username, and password.\n",
    "        \"\"\"\n",
    "        \n",
    "        # dotenv\n",
    "        load_dotenv(file_path)\n",
    "\n",
    "        # get credentials\n",
    "\n",
    "        url = os.getenv(\"DRUPAL_URL\")\n",
    "        username = os.getenv(\"DRUPAL_USERNAME\")\n",
    "        password = os.getenv(\"DRUPAL_PASSWORD\")\n",
    "\n",
    "        return url, username, password\n",
    "\n",
    "\n",
    "    def __init__(self, origin, username, password):\n",
    "        \"\"\"\n",
    "        Initializes the DrupalAPIClient with the necessary credentials and session.\n",
    "\n",
    "        Args:\n",
    "            origin (str): The base URL for the Drupal JSON:API.\n",
    "            username (str): The username for authentication.\n",
    "            password (str): The password for authentication.\n",
    "        \"\"\"\n",
    "                \n",
    "        self.origin = origin\n",
    "        self.auth = HTTPBasicAuth(username, password)\n",
    "        self.session = requests.Session()\n",
    "        self.session.auth = self.auth  # Use auth for all requests in the session\n",
    "\n",
    "    def get_nids(self, uuids, group_name, field_name, operator=\"IN\"):\n",
    "        \"\"\"\n",
    "        Retrieves node IDs (nids) for given UUIDs.\n",
    "\n",
    "        Args:\n",
    "            uuids (list of str): List of UUIDs to query for.\n",
    "            group_name (str): The filter group name.\n",
    "            field_name (str): The field name to match UUIDs against.\n",
    "            operator (str, optional): The operator to use for matching. Default is \"IN\".\n",
    "\n",
    "        Returns:\n",
    "            dict: A dictionary mapping field item IDs to node IDs.\n",
    "        \"\"\"\n",
    "\n",
    "        nids = {}\n",
    "        for i in tqdm(range(0, len(uuids), 10)):\n",
    "            nids.update(self._fetch_nids_batch(uuids[i:i+10], group_name, field_name, operator))\n",
    "        return nids\n",
    "\n",
    "    def _fetch_nids_batch(self, uuid_batch, group_name, field_name, operator):\n",
    "        \"\"\"\n",
    "        Fetches a batch of node IDs from the Drupal JSON:API based on a subset of UUIDs.\n",
    "\n",
    "        Args:\n",
    "            uuid_batch (list of str): A batch of UUIDs.\n",
    "            group_name (str): The filter group name.\n",
    "            field_name (str): The field name to match UUIDs against.\n",
    "            operator (str): The operator to use for matching.\n",
    "\n",
    "        Returns:\n",
    "            dict: A dictionary mapping field item IDs to node IDs for the batch.\n",
    "        \"\"\"\n",
    "\n",
    "        params = self._build_filter_params(uuid_batch, group_name, field_name, operator)\n",
    "        url = f'{self.origin}/jsonapi/node/assets'\n",
    "        response = self.session.get(url, params=params)\n",
    "        return self._parse_nids_response(response)\n",
    "\n",
    "    def _build_filter_params(self, uuid_batch, group_name, field_name, operator):\n",
    "        \"\"\"\n",
    "        Constructs the filter parameters for the API query.\n",
    "\n",
    "        Args:\n",
    "            uuid_batch (list of str): A batch of UUIDs to include in the filter.\n",
    "            group_name (str): The filter group name.\n",
    "            field_name (str): The field name to match UUIDs against.\n",
    "            operator (str): The operator to use for matching.\n",
    "\n",
    "        Returns:\n",
    "            dict: A dictionary containing the constructed filter parameters.\n",
    "        \"\"\"\n",
    "\n",
    "        params = {\n",
    "            f\"filter[{group_name}][condition][path]\": field_name,\n",
    "            f\"filter[{group_name}][condition][operator]\": operator\n",
    "        }\n",
    "        for idx, uuid in enumerate(uuid_batch):\n",
    "            params[f\"filter[{group_name}][condition][value][{idx}]\"] = uuid\n",
    "        return params\n",
    "\n",
    "    def _parse_nids_response(self, response):\n",
    "        \"\"\"\n",
    "        Parses the response from the API to extract node IDs.\n",
    "\n",
    "        Args:\n",
    "            response (requests.Response): The response object from the API.\n",
    "\n",
    "        Returns:\n",
    "            dict: A dictionary mapping field item IDs to node IDs.\n",
    "\n",
    "        Raises:\n",
    "            Exception: If the API response status is not 200 (OK).\n",
    "        \"\"\"\n",
    "\n",
    "        if response.status_code != 200:\n",
    "            raise Exception(f\"Failed to fetch data: {response.status_code} - {response.text}\")\n",
    "        data = response.json()[\"data\"]\n",
    "        return {item[\"attributes\"][\"field_item_id\"]: item[\"attributes\"][\"drupal_internal__nid\"] for item in data}\n",
    "\n",
    "    def delete(self, nid):\n",
    "        \"\"\"\n",
    "        Deletes a node based on its node ID.\n",
    "\n",
    "        Args:\n",
    "            nid (int): The node ID of the node to be deleted.\n",
    "\n",
    "        Returns:\n",
    "            requests.Response: The response from the API after attempting to delete the node.\n",
    "        \"\"\"\n",
    "\n",
    "        url = f'{self.origin}/node/{nid}'\n",
    "        return self.session.delete(url)\n",
    "\n",
    "    def delete_from_nids(self, nids):\n",
    "        \"\"\"\n",
    "        Attempts to delete nodes based on a list of node IDs.\n",
    "\n",
    "        Args:\n",
    "            nids (dict): A dictionary mapping UUIDs to node IDs.\n",
    "\n",
    "        Returns:\n",
    "            list of dict: A list of dictionaries containing error information for each failed deletion.\n",
    "        \"\"\"\n",
    "\n",
    "        errors = []\n",
    "        for uuid, nid in tqdm(nids.items()):\n",
    "            response = self.delete(nid)\n",
    "            if response.status_code != 204:\n",
    "                errors.append(self._handle_delete_error(uuid, nid, response))\n",
    "        return errors\n",
    "\n",
    "    def _handle_delete_error(self, uuid, nid, response):\n",
    "        \"\"\"\n",
    "        Handles errors during the deletion process.\n",
    "\n",
    "        Args:\n",
    "            uuid (str): The UUID of the node.\n",
    "            nid (int): The node ID.\n",
    "            response (requests.Response): The response from the API.\n",
    "\n",
    "        Returns:\n",
    "            dict: A dictionary containing the error details.\n",
    "        \"\"\"\n",
    "\n",
    "        return {\n",
    "            \"uuid\": uuid,\n",
    "            \"nid\": nid,\n",
    "            \"status_code\": response.status_code,\n",
    "            \"message\": response.text\n",
    "        }"
   ]
  },
  {
   "cell_type": "code",
   "execution_count": null,
   "metadata": {},
   "outputs": [
    {
     "data": {
      "text/markdown": [
       "---\n",
       "\n",
       "### DrupalAPIClient\n",
       "\n",
       ">      DrupalAPIClient (origin, username, password)\n",
       "\n",
       "*A client for interacting with a Drupal JSON:API endpoint, providing functionalities\n",
       "to fetch node IDs (nids) based on UUIDs and to delete nodes.\n",
       "\n",
       "Attributes:\n",
       "    origin (str): The base URL for the Drupal site.\n",
       "    auth (HTTPBasicAuth): Authentication credentials for the site.\n",
       "    session (requests.Session): A requests session for making API calls.*"
      ],
      "text/plain": [
       "---\n",
       "\n",
       "### DrupalAPIClient\n",
       "\n",
       ">      DrupalAPIClient (origin, username, password)\n",
       "\n",
       "*A client for interacting with a Drupal JSON:API endpoint, providing functionalities\n",
       "to fetch node IDs (nids) based on UUIDs and to delete nodes.\n",
       "\n",
       "Attributes:\n",
       "    origin (str): The base URL for the Drupal site.\n",
       "    auth (HTTPBasicAuth): Authentication credentials for the site.\n",
       "    session (requests.Session): A requests session for making API calls.*"
      ]
     },
     "execution_count": null,
     "metadata": {},
     "output_type": "execute_result"
    }
   ],
   "source": [
    "show_doc(DrupalAPIClient)"
   ]
  },
  {
   "cell_type": "code",
   "execution_count": null,
   "metadata": {},
   "outputs": [
    {
     "data": {
      "text/markdown": [
       "---\n",
       "\n",
       "### DrupalAPIClient.__init__\n",
       "\n",
       ">      DrupalAPIClient.__init__ (origin, username, password)\n",
       "\n",
       "*Initializes the DrupalAPIClient with the necessary credentials and session.\n",
       "\n",
       "Args:\n",
       "    origin (str): The base URL for the Drupal JSON:API.\n",
       "    username (str): The username for authentication.\n",
       "    password (str): The password for authentication.*"
      ],
      "text/plain": [
       "---\n",
       "\n",
       "### DrupalAPIClient.__init__\n",
       "\n",
       ">      DrupalAPIClient.__init__ (origin, username, password)\n",
       "\n",
       "*Initializes the DrupalAPIClient with the necessary credentials and session.\n",
       "\n",
       "Args:\n",
       "    origin (str): The base URL for the Drupal JSON:API.\n",
       "    username (str): The username for authentication.\n",
       "    password (str): The password for authentication.*"
      ]
     },
     "execution_count": null,
     "metadata": {},
     "output_type": "execute_result"
    }
   ],
   "source": [
    "show_doc(DrupalAPIClient.__init__)"
   ]
  },
  {
   "cell_type": "code",
   "execution_count": null,
   "metadata": {},
   "outputs": [
    {
     "data": {
      "text/markdown": [
       "---\n",
       "\n",
       "### DrupalAPIClient.get_nids\n",
       "\n",
       ">      DrupalAPIClient.get_nids (uuids, group_name, field_name, operator='IN')\n",
       "\n",
       "*Retrieves node IDs (nids) for given UUIDs.\n",
       "\n",
       "Args:\n",
       "    uuids (list of str): List of UUIDs to query for.\n",
       "    group_name (str): The filter group name.\n",
       "    field_name (str): The field name to match UUIDs against.\n",
       "    operator (str, optional): The operator to use for matching. Default is \"IN\".\n",
       "\n",
       "Returns:\n",
       "    dict: A dictionary mapping field item IDs to node IDs.*"
      ],
      "text/plain": [
       "---\n",
       "\n",
       "### DrupalAPIClient.get_nids\n",
       "\n",
       ">      DrupalAPIClient.get_nids (uuids, group_name, field_name, operator='IN')\n",
       "\n",
       "*Retrieves node IDs (nids) for given UUIDs.\n",
       "\n",
       "Args:\n",
       "    uuids (list of str): List of UUIDs to query for.\n",
       "    group_name (str): The filter group name.\n",
       "    field_name (str): The field name to match UUIDs against.\n",
       "    operator (str, optional): The operator to use for matching. Default is \"IN\".\n",
       "\n",
       "Returns:\n",
       "    dict: A dictionary mapping field item IDs to node IDs.*"
      ]
     },
     "execution_count": null,
     "metadata": {},
     "output_type": "execute_result"
    }
   ],
   "source": [
    "show_doc(DrupalAPIClient.get_nids)"
   ]
  },
  {
   "cell_type": "code",
   "execution_count": null,
   "metadata": {},
   "outputs": [
    {
     "data": {
      "text/markdown": [
       "---\n",
       "\n",
       "### DrupalAPIClient.delete\n",
       "\n",
       ">      DrupalAPIClient.delete (nid)\n",
       "\n",
       "*Deletes a node based on its node ID.\n",
       "\n",
       "Args:\n",
       "    nid (int): The node ID of the node to be deleted.\n",
       "\n",
       "Returns:\n",
       "    requests.Response: The response from the API after attempting to delete the node.*"
      ],
      "text/plain": [
       "---\n",
       "\n",
       "### DrupalAPIClient.delete\n",
       "\n",
       ">      DrupalAPIClient.delete (nid)\n",
       "\n",
       "*Deletes a node based on its node ID.\n",
       "\n",
       "Args:\n",
       "    nid (int): The node ID of the node to be deleted.\n",
       "\n",
       "Returns:\n",
       "    requests.Response: The response from the API after attempting to delete the node.*"
      ]
     },
     "execution_count": null,
     "metadata": {},
     "output_type": "execute_result"
    }
   ],
   "source": [
    "show_doc(DrupalAPIClient.delete)"
   ]
  },
  {
   "cell_type": "code",
   "execution_count": null,
   "metadata": {},
   "outputs": [
    {
     "data": {
      "text/markdown": [
       "---\n",
       "\n",
       "### DrupalAPIClient.delete_from_nids\n",
       "\n",
       ">      DrupalAPIClient.delete_from_nids (nids)\n",
       "\n",
       "*Attempts to delete nodes based on a list of node IDs.\n",
       "\n",
       "Args:\n",
       "    nids (dict): A dictionary mapping UUIDs to node IDs.\n",
       "\n",
       "Returns:\n",
       "    list of dict: A list of dictionaries containing error information for each failed deletion.*"
      ],
      "text/plain": [
       "---\n",
       "\n",
       "### DrupalAPIClient.delete_from_nids\n",
       "\n",
       ">      DrupalAPIClient.delete_from_nids (nids)\n",
       "\n",
       "*Attempts to delete nodes based on a list of node IDs.\n",
       "\n",
       "Args:\n",
       "    nids (dict): A dictionary mapping UUIDs to node IDs.\n",
       "\n",
       "Returns:\n",
       "    list of dict: A list of dictionaries containing error information for each failed deletion.*"
      ]
     },
     "execution_count": null,
     "metadata": {},
     "output_type": "execute_result"
    }
   ],
   "source": [
    "show_doc(DrupalAPIClient.delete_from_nids)"
   ]
  },
  {
   "cell_type": "code",
   "execution_count": null,
   "metadata": {},
   "outputs": [
    {
     "data": {
      "text/markdown": [
       "---\n",
       "\n",
       "### DrupalAPIClient.load_credentials\n",
       "\n",
       ">      DrupalAPIClient.load_credentials (file_path)\n",
       "\n",
       "*Loads credentials from a .env file.\n",
       "\n",
       "Args:\n",
       "    file_path (str): The path to the .env file.\n",
       "\n",
       "Returns:\n",
       "    tuple: A tuple containing the URL, username, and password.*"
      ],
      "text/plain": [
       "---\n",
       "\n",
       "### DrupalAPIClient.load_credentials\n",
       "\n",
       ">      DrupalAPIClient.load_credentials (file_path)\n",
       "\n",
       "*Loads credentials from a .env file.\n",
       "\n",
       "Args:\n",
       "    file_path (str): The path to the .env file.\n",
       "\n",
       "Returns:\n",
       "    tuple: A tuple containing the URL, username, and password.*"
      ]
     },
     "execution_count": null,
     "metadata": {},
     "output_type": "execute_result"
    }
   ],
   "source": [
    "show_doc(DrupalAPIClient.load_credentials)"
   ]
  },
  {
   "cell_type": "code",
   "execution_count": null,
   "metadata": {},
   "outputs": [],
   "source": [
    "#| hide\n",
    "import nbdev; nbdev.nbdev_export()"
   ]
  }
 ],
 "metadata": {
  "kernelspec": {
   "display_name": "python3",
   "language": "python",
   "name": "python3"
  }
 },
 "nbformat": 4,
 "nbformat_minor": 4
}
